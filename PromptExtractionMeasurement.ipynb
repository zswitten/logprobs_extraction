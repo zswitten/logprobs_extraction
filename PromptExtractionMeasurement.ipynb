{
 "cells": [
  {
   "cell_type": "code",
   "execution_count": 2,
   "id": "78f8ebff",
   "metadata": {},
   "outputs": [],
   "source": [
    "from logprobs_extraction import *\n",
    "from utils import *\n",
    "import pickle"
   ]
  },
  {
   "cell_type": "code",
   "execution_count": 3,
   "id": "47d4986b",
   "metadata": {},
   "outputs": [],
   "source": [
    "prompts, categories = load_prompts_from_pile()\n",
    "eval_prompts = prompts[100:300]"
   ]
  },
  {
   "cell_type": "code",
   "execution_count": 4,
   "id": "51bd50cf",
   "metadata": {},
   "outputs": [],
   "source": [
    "samples_df = pickle.load(open('samples_df_final.pkl', 'rb'))\n",
    "csv_like_ef = pickle.load(open('csv_like_ef.pkl', 'rb'))\n",
    "csv_like_ef2 = pickle.load(open('csv_like_ef2.pkl', 'rb'))\n",
    "csv_like_ef3 = pickle.load(open('csv_like_ef3.pkl', 'rb'))"
   ]
  },
  {
   "cell_type": "code",
   "execution_count": 6,
   "id": "5686c050",
   "metadata": {},
   "outputs": [],
   "source": [
    "sdfs = []\n",
    "for i, p in enumerate(eval_prompts):\n",
    "    df = sample_logprobs(p)\n",
    "    sdfs.append(df)\n",
    "    print(p)\n",
    "samples_df = pd.concat(sdfs)"
   ]
  },
  {
   "cell_type": "code",
   "execution_count": 4,
   "id": "ac93ef3d",
   "metadata": {},
   "outputs": [],
   "source": [
    "csv_like_ef = Exfiltrator(EFP1, EFS1, exfiltrate1)\n",
    "csv_like_ef2 = Exfiltrator(EFP2, EFS2, exfiltrate2)\n",
    "csv_like_ef3 = Exfiltrator(EFP3, EFS3, exfiltrate3)"
   ]
  },
  {
   "cell_type": "code",
   "execution_count": 5,
   "id": "aff6823f",
   "metadata": {},
   "outputs": [],
   "source": [
    "for i, p in enumerate(eval_prompts):\n",
    "    csv_like_ef.get_logprobs(p)\n",
    "    csv_like_ef2.get_logprobs(p)\n",
    "    csv_like_ef3.get_logprobs(p)\n",
    "    print(i)"
   ]
  },
  {
   "cell_type": "code",
   "execution_count": 8,
   "id": "5e70fa2e",
   "metadata": {},
   "outputs": [],
   "source": [
    "# import pickle\n",
    "# pickle.dump(samples_df, open(\"samples_df_final.pkl\", \"wb\"))\n",
    "# pickle.dump(csv_like_ef, open(\"csv_like_ef.pkl\", \"wb\"))\n",
    "# pickle.dump(csv_like_ef2, open(\"csv_like_ef2.pkl\", \"wb\"))\n",
    "# pickle.dump(csv_like_ef3, open(\"csv_like_ef3.pkl\", \"wb\"))"
   ]
  },
  {
   "cell_type": "code",
   "execution_count": 12,
   "id": "861fe441",
   "metadata": {},
   "outputs": [
    {
     "name": "stdout",
     "output_type": "stream",
     "text": [
      "190 185 190 182\n"
     ]
    }
   ],
   "source": [
    "ef_logprobs1 = csv_like_ef.logprobs.loc[\n",
    "    csv_like_ef.logprobs['probs'].apply(len) == 5].loc[\n",
    "    csv_like_ef.logprobs['probs'].apply(lambda x: sum(x.values()) > 0)\n",
    "]\n",
    "ef_logprobs2 = csv_like_ef2.logprobs.loc[\n",
    "    csv_like_ef2.logprobs['probs'].apply(len) == 5].loc[\n",
    "    csv_like_ef2.logprobs['probs'].apply(lambda x: sum(x.values()) > 0)\n",
    "]\n",
    "ef_logprobs3 = csv_like_ef3.logprobs.loc[\n",
    "    csv_like_ef3.logprobs['probs'].apply(len) == 5].loc[\n",
    "    csv_like_ef3.logprobs['probs'].apply(lambda x: sum(x.values()) > 0)\n",
    "]\n",
    "sampled_logprobs = samples_df.loc[\n",
    "    samples_df['probs'].apply(len) == 5].loc[\n",
    "    samples_df['probs'].apply(lambda x: sum(x.values()) > 0)\n",
    "]\n",
    "print(len(ef_logprobs1), len(ef_logprobs2), len(ef_logprobs3), len(sampled_logprobs))"
   ]
  },
  {
   "cell_type": "code",
   "execution_count": 13,
   "id": "f8e0e983",
   "metadata": {},
   "outputs": [],
   "source": [
    "def make_baseline(probs):\n",
    "    top_word = sorted(probs, key=lambda x: probs[x])[-1]\n",
    "    return {\n",
    "        top_word: 57,\n",
    "        'xkfdkajdfa': 0,\n",
    "        'jkajdfkjafkdla': 0,\n",
    "        'akejrejklra': 0,\n",
    "        'ajkejfkejfkoea': 0\n",
    "    }\n",
    "baseline_logprobs = pd.DataFrame(sampled_logprobs.probs.apply(make_baseline))"
   ]
  },
  {
   "cell_type": "code",
   "execution_count": 14,
   "id": "43f312e6",
   "metadata": {},
   "outputs": [],
   "source": [
    "agreement_rate_normalized = []\n",
    "agreement_rate_left = []\n",
    "agreement_rate_right = []\n",
    "agreement_rate_lb = []\n",
    "overlap_rate = []\n",
    "top1_match_rate = []\n",
    "top1_present_rate = []"
   ]
  },
  {
   "cell_type": "code",
   "execution_count": 15,
   "id": "b81651ef",
   "metadata": {},
   "outputs": [],
   "source": [
    "merged = pd.merge(\n",
    "    sampled_logprobs, ef_logprobs1, left_index=True, right_index=True,\n",
    "    suffixes=['_true', '_predicted']\n",
    ")\n",
    "agreement_rate_normalized.append(merged.apply(\n",
    "    lambda x: agreement_rate(x['probs_true'], x['probs_predicted'], 'both'), axis=1).values.mean())\n",
    "agreement_rate_left.append(merged.apply(\n",
    "    lambda x: agreement_rate(x['probs_true'], x['probs_predicted'], 'left'), axis=1).values.mean())\n",
    "agreement_rate_right.append(merged.apply(\n",
    "    lambda x: agreement_rate(x['probs_true'], x['probs_predicted'], 'right'), axis=1).values.mean())\n",
    "agreement_rate_lb.append(merged.apply(\n",
    "    lambda x: agreement_rate(x['probs_true'], x['probs_predicted'], None), axis=1).values.mean())\n",
    "overlap_rate.append(merged.apply(\n",
    "    lambda x: fraction_overlap(x['probs_true'], x['probs_predicted']), axis=1).values.mean())\n",
    "top1_match_rate.append(merged.apply(\n",
    "    lambda x: fraction_top1s_match(x['probs_true'], x['probs_predicted']), axis=1).values.mean())\n",
    "top1_present_rate.append(merged.apply(\n",
    "    lambda x: fraction_top1_present(x['probs_true'], x['probs_predicted']), axis=1).values.mean())"
   ]
  },
  {
   "cell_type": "code",
   "execution_count": 16,
   "id": "8cddab06",
   "metadata": {},
   "outputs": [],
   "source": [
    "merged = pd.merge(\n",
    "    sampled_logprobs, ef_logprobs2, left_index=True, right_index=True,\n",
    "    suffixes=['_true', '_predicted']\n",
    ")\n",
    "agreement_rate_normalized.append(merged.apply(\n",
    "    lambda x: agreement_rate(x['probs_true'], x['probs_predicted'], 'both'), axis=1).values.mean())\n",
    "agreement_rate_left.append(merged.apply(\n",
    "    lambda x: agreement_rate(x['probs_true'], x['probs_predicted'], 'left'), axis=1).values.mean())\n",
    "agreement_rate_right.append(merged.apply(\n",
    "    lambda x: agreement_rate(x['probs_true'], x['probs_predicted'], 'right'), axis=1).values.mean())\n",
    "agreement_rate_lb.append(merged.apply(\n",
    "    lambda x: agreement_rate(x['probs_true'], x['probs_predicted'], None), axis=1).values.mean())\n",
    "overlap_rate.append(merged.apply(\n",
    "    lambda x: fraction_overlap(x['probs_true'], x['probs_predicted']), axis=1).values.mean())\n",
    "top1_match_rate.append(merged.apply(\n",
    "    lambda x: fraction_top1s_match(x['probs_true'], x['probs_predicted']), axis=1).values.mean())\n",
    "top1_present_rate.append(merged.apply(\n",
    "    lambda x: fraction_top1_present(x['probs_true'], x['probs_predicted']), axis=1).values.mean())"
   ]
  },
  {
   "cell_type": "code",
   "execution_count": 17,
   "id": "d59c18e0",
   "metadata": {},
   "outputs": [],
   "source": [
    "merged = pd.merge(\n",
    "    sampled_logprobs, baseline_logprobs, left_index=True, right_index=True,\n",
    "    suffixes=['_true', '_predicted']\n",
    ")\n",
    "agreement_rate_normalized.append(merged.apply(\n",
    "    lambda x: agreement_rate(x['probs_true'], x['probs_predicted'], 'both'), axis=1).values.mean())\n",
    "agreement_rate_left.append(merged.apply(\n",
    "    lambda x: agreement_rate(x['probs_true'], x['probs_predicted'], 'left'), axis=1).values.mean())\n",
    "agreement_rate_right.append(merged.apply(\n",
    "    lambda x: agreement_rate(x['probs_true'], x['probs_predicted'], 'right'), axis=1).values.mean())\n",
    "agreement_rate_lb.append(merged.apply(\n",
    "    lambda x: agreement_rate(x['probs_true'], x['probs_predicted'], None), axis=1).values.mean())\n",
    "overlap_rate.append(merged.apply(\n",
    "    lambda x: fraction_overlap(x['probs_true'], x['probs_predicted']), axis=1).values.mean())\n",
    "top1_match_rate.append(merged.apply(\n",
    "    lambda x: fraction_top1s_match(x['probs_true'], x['probs_predicted']), axis=1).values.mean())\n",
    "top1_present_rate.append(merged.apply(\n",
    "    lambda x: fraction_top1_present(x['probs_true'], x['probs_predicted']), axis=1).values.mean())"
   ]
  },
  {
   "cell_type": "code",
   "execution_count": 19,
   "id": "01fb9b17",
   "metadata": {},
   "outputs": [],
   "source": [
    "results_df = pd.DataFrame({\n",
    "    'Top 5 Overlap': overlap_rate,\n",
    "    'Agreement Rate Lower Bound': agreement_rate_lb,\n",
    "#     'Agreement Rate Normalized': agreement_rate_left,\n",
    "    'Top 1 Match Rate': top1_match_rate,\n",
    "    'Top 1 Presence Rate': top1_present_rate,\n",
    "})"
   ]
  },
  {
   "cell_type": "code",
   "execution_count": 20,
   "id": "00dab603",
   "metadata": {},
   "outputs": [
    {
     "data": {
      "text/html": [
       "<div>\n",
       "<style scoped>\n",
       "    .dataframe tbody tr th:only-of-type {\n",
       "        vertical-align: middle;\n",
       "    }\n",
       "\n",
       "    .dataframe tbody tr th {\n",
       "        vertical-align: top;\n",
       "    }\n",
       "\n",
       "    .dataframe thead th {\n",
       "        text-align: right;\n",
       "    }\n",
       "</style>\n",
       "<table border=\"1\" class=\"dataframe\">\n",
       "  <thead>\n",
       "    <tr style=\"text-align: right;\">\n",
       "      <th></th>\n",
       "      <th>Top 5 Overlap</th>\n",
       "      <th>Agreement Rate Lower Bound</th>\n",
       "      <th>Top 1 Match Rate</th>\n",
       "      <th>Top 1 Presence Rate</th>\n",
       "    </tr>\n",
       "  </thead>\n",
       "  <tbody>\n",
       "    <tr>\n",
       "      <th>0</th>\n",
       "      <td>1.367816</td>\n",
       "      <td>0.262418</td>\n",
       "      <td>0.545977</td>\n",
       "      <td>0.649425</td>\n",
       "    </tr>\n",
       "    <tr>\n",
       "      <th>1</th>\n",
       "      <td>1.415205</td>\n",
       "      <td>0.296105</td>\n",
       "      <td>0.561404</td>\n",
       "      <td>0.672515</td>\n",
       "    </tr>\n",
       "    <tr>\n",
       "      <th>2</th>\n",
       "      <td>1.000000</td>\n",
       "      <td>0.322990</td>\n",
       "      <td>1.000000</td>\n",
       "      <td>1.000000</td>\n",
       "    </tr>\n",
       "  </tbody>\n",
       "</table>\n",
       "</div>"
      ],
      "text/plain": [
       "   Top 5 Overlap  Agreement Rate Lower Bound  Top 1 Match Rate  \\\n",
       "0       1.367816                    0.262418          0.545977   \n",
       "1       1.415205                    0.296105          0.561404   \n",
       "2       1.000000                    0.322990          1.000000   \n",
       "\n",
       "   Top 1 Presence Rate  \n",
       "0             0.649425  \n",
       "1             0.672515  \n",
       "2             1.000000  "
      ]
     },
     "execution_count": 20,
     "metadata": {},
     "output_type": "execute_result"
    }
   ],
   "source": [
    "results_df['Agreement Rate Lower Bound'] = results_df['Agreement Rate Lower Bound'].apply(lambda x: x / 10000)\n",
    "results_df"
   ]
  },
  {
   "cell_type": "code",
   "execution_count": 288,
   "id": "d94e78a4",
   "metadata": {},
   "outputs": [
    {
     "name": "stdout",
     "output_type": "stream",
     "text": [
      "|    |   Top 5 Overlap |   Agreement Rate Lower Bound |   Top 1 Match Rate |   Top 1 Presence Rate |\n",
      "|---:|----------------:|-----------------------------:|-------------------:|----------------------:|\n",
      "|  0 |         1.36782 |                     0.262418 |           0.545977 |              0.649425 |\n",
      "|  1 |         1.4152  |                     0.296105 |           0.561404 |              0.672515 |\n",
      "|  2 |         1       |                     0.32299  |           1        |              1        |\n"
     ]
    }
   ],
   "source": [
    "print(results_df.to_markdown())"
   ]
  },
  {
   "cell_type": "code",
   "execution_count": 194,
   "id": "214a25b7",
   "metadata": {},
   "outputs": [],
   "source": [
    "merged = pd.merge(\n",
    "    sampled_logprobs, ef_logprobs2, left_index=True, right_index=True,\n",
    "    suffixes=['_true', '_predicted']\n",
    ")"
   ]
  },
  {
   "cell_type": "code",
   "execution_count": 81,
   "id": "e9ec3efd",
   "metadata": {},
   "outputs": [
    {
     "name": "stdout",
     "output_type": "stream",
     "text": [
      "64.19242424242422\n",
      "80.14102564102565\n"
     ]
    }
   ],
   "source": [
    "print(merged[merged.probs_true.apply(lambda x: list(x.values())[0] < 90)].probs_predicted.apply(\n",
    "    lambda x: list(x.values())[0]).mean())\n",
    "print(merged[merged.probs_true.apply(lambda x: list(x.values())[0] > 90)].probs_predicted.apply(\n",
    "    lambda x: list(x.values())[0]).mean())"
   ]
  },
  {
   "cell_type": "code",
   "execution_count": null,
   "id": "b7e46353",
   "metadata": {},
   "outputs": [],
   "source": []
  }
 ],
 "metadata": {
  "kernelspec": {
   "display_name": "Python 3 (ipykernel)",
   "language": "python",
   "name": "python3"
  },
  "language_info": {
   "codemirror_mode": {
    "name": "ipython",
    "version": 3
   },
   "file_extension": ".py",
   "mimetype": "text/x-python",
   "name": "python",
   "nbconvert_exporter": "python",
   "pygments_lexer": "ipython3",
   "version": "3.9.9"
  }
 },
 "nbformat": 4,
 "nbformat_minor": 5
}
